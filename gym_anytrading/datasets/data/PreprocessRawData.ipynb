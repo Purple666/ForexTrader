{
 "cells": [
  {
   "cell_type": "code",
   "execution_count": 1,
   "metadata": {},
   "outputs": [],
   "source": [
    "import numpy as np\n",
    "import pandas as pd\n",
    "import matplotlib.pyplot as plt\n",
    "import math\n",
    "import os\n",
    "from sklearn.preprocessing import MinMaxScaler\n",
    "%matplotlib inline"
   ]
  },
  {
   "cell_type": "markdown",
   "metadata": {},
   "source": [
    "## Load Prices "
   ]
  },
  {
   "cell_type": "code",
   "execution_count": 2,
   "metadata": {},
   "outputs": [],
   "source": [
    "time_range = 'Jan2019-Dec2019'\n",
    "raw_data_path = os.path.join('RawData',time_range)"
   ]
  },
  {
   "cell_type": "markdown",
   "metadata": {},
   "source": [
    "#### EUR/USD Prices"
   ]
  },
  {
   "cell_type": "code",
   "execution_count": 3,
   "metadata": {},
   "outputs": [],
   "source": [
    "dataset = pd.read_csv(os.path.join(raw_data_path,'EURUSD.csv'),sep='\\t')\n",
    "dataset['Timestamp'] = dataset['<DATE>'] + '-' + dataset['<TIME>']\n",
    "dataset['EURUSD'] = dataset['<CLOSE>']\n",
    "dataset.drop(columns=['<HIGH>','<LOW>','<TICKVOL>','<VOL>','<SPREAD>','<OPEN>','<CLOSE>','<DATE>','<TIME>'],inplace=True)"
   ]
  },
  {
   "cell_type": "markdown",
   "metadata": {},
   "source": [
    "#### GBP/USD Prices"
   ]
  },
  {
   "cell_type": "code",
   "execution_count": 4,
   "metadata": {},
   "outputs": [],
   "source": [
    "read_data = pd.read_csv(os.path.join(raw_data_path,'GBPUSD.csv'),sep='\\t')\n",
    "read_data['Timestamp'] = read_data['<DATE>'] + '-' + read_data['<TIME>']\n",
    "read_data['GBPUSD'] = read_data['<CLOSE>']\n",
    "read_data.drop(columns=['<HIGH>','<LOW>','<TICKVOL>','<VOL>','<SPREAD>','<OPEN>','<CLOSE>','<DATE>','<TIME>'],inplace=True)\n",
    "dataset = pd.merge(dataset,read_data,how=\"outer\",left_on=\"Timestamp\",right_on=\"Timestamp\")"
   ]
  },
  {
   "cell_type": "markdown",
   "metadata": {},
   "source": [
    "#### USD/JPY Prices"
   ]
  },
  {
   "cell_type": "code",
   "execution_count": 5,
   "metadata": {},
   "outputs": [],
   "source": [
    "read_data = pd.read_csv(os.path.join(raw_data_path,'USDJPY.csv'),sep='\\t')\n",
    "read_data['Timestamp'] = read_data['<DATE>'] + '-' + read_data['<TIME>']\n",
    "read_data['USDJPY'] = read_data['<CLOSE>']\n",
    "read_data.drop(columns=['<HIGH>','<LOW>','<TICKVOL>','<VOL>','<SPREAD>','<OPEN>','<CLOSE>','<DATE>','<TIME>'],inplace=True)\n",
    "dataset = pd.merge(dataset,read_data,how=\"outer\",left_on=\"Timestamp\",right_on=\"Timestamp\")"
   ]
  },
  {
   "cell_type": "markdown",
   "metadata": {},
   "source": [
    "#### Gold Prices"
   ]
  },
  {
   "cell_type": "code",
   "execution_count": 6,
   "metadata": {},
   "outputs": [],
   "source": [
    "read_data = pd.read_csv(os.path.join(raw_data_path,'XAUUSD.csv'),sep='\\t')\n",
    "read_data['Timestamp'] = read_data['<DATE>'] + '-' + read_data['<TIME>']\n",
    "read_data['XAUUSD'] = read_data['<CLOSE>']\n",
    "read_data.drop(columns=['<HIGH>','<LOW>','<TICKVOL>','<VOL>','<SPREAD>','<OPEN>','<CLOSE>','<DATE>','<TIME>'],inplace=True)\n",
    "dataset = pd.merge(dataset,read_data,how=\"outer\",left_on=\"Timestamp\",right_on=\"Timestamp\")"
   ]
  },
  {
   "cell_type": "markdown",
   "metadata": {},
   "source": [
    "#### Dow Jones Industrial Average"
   ]
  },
  {
   "cell_type": "code",
   "execution_count": 7,
   "metadata": {},
   "outputs": [],
   "source": [
    "read_data = pd.read_csv(os.path.join(raw_data_path,'DJI.csv'),sep='\\t')\n",
    "read_data['Timestamp'] = read_data['<DATE>'] + '-' + read_data['<TIME>']\n",
    "read_data['DJI'] = read_data['<CLOSE>']\n",
    "read_data.drop(columns=['<HIGH>','<LOW>','<TICKVOL>','<VOL>','<SPREAD>','<OPEN>','<CLOSE>','<DATE>','<TIME>'],inplace=True)\n",
    "dataset = pd.merge(dataset,read_data,how=\"outer\",left_on=\"Timestamp\",right_on=\"Timestamp\")"
   ]
  },
  {
   "cell_type": "markdown",
   "metadata": {},
   "source": [
    "#### U.S. Dollar Index"
   ]
  },
  {
   "cell_type": "code",
   "execution_count": 8,
   "metadata": {},
   "outputs": [],
   "source": [
    "read_data = pd.read_csv(os.path.join(raw_data_path,'DXY.csv'),sep='\\t')\n",
    "read_data['Timestamp'] = read_data['<DATE>'] + '-' + read_data['<TIME>']\n",
    "read_data['DXY'] = read_data['<CLOSE>']\n",
    "read_data.drop(columns=['<HIGH>','<LOW>','<TICKVOL>','<VOL>','<SPREAD>','<OPEN>','<CLOSE>','<DATE>','<TIME>'],inplace=True)\n",
    "dataset = pd.merge(dataset,read_data,how=\"outer\",left_on=\"Timestamp\",right_on=\"Timestamp\")"
   ]
  },
  {
   "cell_type": "markdown",
   "metadata": {},
   "source": [
    "#### NASDAQ-100 Technology Sector Index"
   ]
  },
  {
   "cell_type": "code",
   "execution_count": 9,
   "metadata": {},
   "outputs": [],
   "source": [
    "read_data = pd.read_csv(os.path.join(raw_data_path,'NDXT.csv'),sep='\\t')\n",
    "read_data['Timestamp'] = read_data['<DATE>'] + '-' + read_data['<TIME>']\n",
    "read_data['NDXT'] = read_data['<CLOSE>']\n",
    "read_data.drop(columns=['<HIGH>','<LOW>','<TICKVOL>','<VOL>','<SPREAD>','<OPEN>','<CLOSE>','<DATE>','<TIME>'],inplace=True)\n",
    "dataset = pd.merge(dataset,read_data,how=\"outer\",left_on=\"Timestamp\",right_on=\"Timestamp\")"
   ]
  },
  {
   "cell_type": "markdown",
   "metadata": {},
   "source": [
    "#### S&P500 Index"
   ]
  },
  {
   "cell_type": "code",
   "execution_count": 10,
   "metadata": {},
   "outputs": [],
   "source": [
    "read_data = pd.read_csv(os.path.join(raw_data_path,'SP500.csv'),sep='\\t')\n",
    "read_data['Timestamp'] = read_data['<DATE>'] + '-' + read_data['<TIME>']\n",
    "read_data['SP500'] = read_data['<CLOSE>']\n",
    "read_data.drop(columns=['<HIGH>','<LOW>','<TICKVOL>','<VOL>','<SPREAD>','<OPEN>','<CLOSE>','<DATE>','<TIME>'],inplace=True)\n",
    "dataset = pd.merge(dataset,read_data,how=\"outer\",left_on=\"Timestamp\",right_on=\"Timestamp\")"
   ]
  },
  {
   "cell_type": "markdown",
   "metadata": {},
   "source": [
    "## Data cleaning"
   ]
  },
  {
   "cell_type": "code",
   "execution_count": 11,
   "metadata": {},
   "outputs": [],
   "source": [
    "# Forward fill Nan values and drop initial Nan values\n",
    "dataset.fillna(method='ffill',inplace=True)\n",
    "dataset.dropna(inplace=True)"
   ]
  },
  {
   "cell_type": "markdown",
   "metadata": {},
   "source": [
    "## Write to csv file"
   ]
  },
  {
   "cell_type": "code",
   "execution_count": 12,
   "metadata": {},
   "outputs": [],
   "source": [
    "dataset.to_csv (time_range+r'_EURUSD.csv', index = None, header=True)"
   ]
  }
 ],
 "metadata": {
  "kernelspec": {
   "display_name": "Python 3",
   "language": "python",
   "name": "python3"
  },
  "language_info": {
   "codemirror_mode": {
    "name": "ipython",
    "version": 3
   },
   "file_extension": ".py",
   "mimetype": "text/x-python",
   "name": "python",
   "nbconvert_exporter": "python",
   "pygments_lexer": "ipython3",
   "version": "3.7.6"
  }
 },
 "nbformat": 4,
 "nbformat_minor": 4
}
